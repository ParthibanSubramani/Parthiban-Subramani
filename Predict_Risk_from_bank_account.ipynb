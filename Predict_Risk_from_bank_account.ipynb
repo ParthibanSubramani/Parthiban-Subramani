{
 "cells": [
  {
   "cell_type": "code",
   "execution_count": null,
   "id": "f91c5f1c",
   "metadata": {},
   "outputs": [],
   "source": [
    "#Logistic Regression and One versus One\n",
    "#his dataset simulates a financial context, designed to reflect customer account behavioracross various risk classes within a banking or financial institution. \n",
    "#It comprises featuressuch as Age of Account (in years), Number of Transactions in the last month, AverageTransaction Value, Credit Score, and Account Balance, for a total of 700 entries. Eachrecord is then categorized into one of three risk classes (Low, Medium, High)\n",
    "#3. Your goal is to design an ML classifier using OVO with logistic regression."
   ]
  },
  {
   "cell_type": "code",
   "execution_count": 2,
   "id": "b14994c5",
   "metadata": {},
   "outputs": [],
   "source": [
    "from sklearn.model_selection import train_test_split\n",
    "from sklearn.linear_model import LogisticRegression\n",
    "from sklearn.metrics import accuracy_score, precision_score, recall_score, classification_report\n",
    "from sklearn.metrics import confusion_matrix\n",
    "from sklearn.multiclass import OneVsOneClassifier\n",
    "import matplotlib.pyplot as plt\n",
    "import seaborn as sns\n",
    "import pandas as pd\n",
    "import warnings\n",
    "warnings.filterwarnings('ignore')"
   ]
  },
  {
   "cell_type": "code",
   "execution_count": 4,
   "id": "d5a19e78",
   "metadata": {},
   "outputs": [
    {
     "data": {
      "text/html": [
       "<div>\n",
       "<style scoped>\n",
       "    .dataframe tbody tr th:only-of-type {\n",
       "        vertical-align: middle;\n",
       "    }\n",
       "\n",
       "    .dataframe tbody tr th {\n",
       "        vertical-align: top;\n",
       "    }\n",
       "\n",
       "    .dataframe thead th {\n",
       "        text-align: right;\n",
       "    }\n",
       "</style>\n",
       "<table border=\"1\" class=\"dataframe\">\n",
       "  <thead>\n",
       "    <tr style=\"text-align: right;\">\n",
       "      <th></th>\n",
       "      <th>Unnamed: 0</th>\n",
       "      <th>Age_of_Account_years</th>\n",
       "      <th>Number_of_Transactions_last_month</th>\n",
       "      <th>Average_Transaction_Value</th>\n",
       "      <th>Credit_Score</th>\n",
       "      <th>Account_Balance</th>\n",
       "      <th>Risk_Class</th>\n",
       "    </tr>\n",
       "  </thead>\n",
       "  <tbody>\n",
       "    <tr>\n",
       "      <th>0</th>\n",
       "      <td>0</td>\n",
       "      <td>7</td>\n",
       "      <td>12</td>\n",
       "      <td>5577.48</td>\n",
       "      <td>383</td>\n",
       "      <td>3804.62</td>\n",
       "      <td>0</td>\n",
       "    </tr>\n",
       "    <tr>\n",
       "      <th>1</th>\n",
       "      <td>1</td>\n",
       "      <td>20</td>\n",
       "      <td>55</td>\n",
       "      <td>8607.71</td>\n",
       "      <td>751</td>\n",
       "      <td>11394.94</td>\n",
       "      <td>2</td>\n",
       "    </tr>\n",
       "    <tr>\n",
       "      <th>2</th>\n",
       "      <td>2</td>\n",
       "      <td>29</td>\n",
       "      <td>13</td>\n",
       "      <td>5355.35</td>\n",
       "      <td>684</td>\n",
       "      <td>36539.28</td>\n",
       "      <td>1</td>\n",
       "    </tr>\n",
       "    <tr>\n",
       "      <th>3</th>\n",
       "      <td>3</td>\n",
       "      <td>15</td>\n",
       "      <td>23</td>\n",
       "      <td>1852.78</td>\n",
       "      <td>471</td>\n",
       "      <td>29980.53</td>\n",
       "      <td>0</td>\n",
       "    </tr>\n",
       "    <tr>\n",
       "      <th>4</th>\n",
       "      <td>4</td>\n",
       "      <td>11</td>\n",
       "      <td>89</td>\n",
       "      <td>3002.96</td>\n",
       "      <td>675</td>\n",
       "      <td>3318.11</td>\n",
       "      <td>2</td>\n",
       "    </tr>\n",
       "    <tr>\n",
       "      <th>...</th>\n",
       "      <td>...</td>\n",
       "      <td>...</td>\n",
       "      <td>...</td>\n",
       "      <td>...</td>\n",
       "      <td>...</td>\n",
       "      <td>...</td>\n",
       "      <td>...</td>\n",
       "    </tr>\n",
       "    <tr>\n",
       "      <th>695</th>\n",
       "      <td>695</td>\n",
       "      <td>17</td>\n",
       "      <td>49</td>\n",
       "      <td>1854.01</td>\n",
       "      <td>564</td>\n",
       "      <td>13644.79</td>\n",
       "      <td>1</td>\n",
       "    </tr>\n",
       "    <tr>\n",
       "      <th>696</th>\n",
       "      <td>696</td>\n",
       "      <td>7</td>\n",
       "      <td>71</td>\n",
       "      <td>2959.83</td>\n",
       "      <td>619</td>\n",
       "      <td>6355.29</td>\n",
       "      <td>2</td>\n",
       "    </tr>\n",
       "    <tr>\n",
       "      <th>697</th>\n",
       "      <td>697</td>\n",
       "      <td>24</td>\n",
       "      <td>81</td>\n",
       "      <td>7936.14</td>\n",
       "      <td>675</td>\n",
       "      <td>16914.54</td>\n",
       "      <td>2</td>\n",
       "    </tr>\n",
       "    <tr>\n",
       "      <th>698</th>\n",
       "      <td>698</td>\n",
       "      <td>23</td>\n",
       "      <td>84</td>\n",
       "      <td>1860.43</td>\n",
       "      <td>388</td>\n",
       "      <td>49977.24</td>\n",
       "      <td>2</td>\n",
       "    </tr>\n",
       "    <tr>\n",
       "      <th>699</th>\n",
       "      <td>699</td>\n",
       "      <td>5</td>\n",
       "      <td>49</td>\n",
       "      <td>9178.35</td>\n",
       "      <td>502</td>\n",
       "      <td>20346.98</td>\n",
       "      <td>1</td>\n",
       "    </tr>\n",
       "  </tbody>\n",
       "</table>\n",
       "<p>700 rows × 7 columns</p>\n",
       "</div>"
      ],
      "text/plain": [
       "     Unnamed: 0  Age_of_Account_years  Number_of_Transactions_last_month  \\\n",
       "0             0                     7                                 12   \n",
       "1             1                    20                                 55   \n",
       "2             2                    29                                 13   \n",
       "3             3                    15                                 23   \n",
       "4             4                    11                                 89   \n",
       "..          ...                   ...                                ...   \n",
       "695         695                    17                                 49   \n",
       "696         696                     7                                 71   \n",
       "697         697                    24                                 81   \n",
       "698         698                    23                                 84   \n",
       "699         699                     5                                 49   \n",
       "\n",
       "     Average_Transaction_Value  Credit_Score  Account_Balance  Risk_Class  \n",
       "0                      5577.48           383          3804.62           0  \n",
       "1                      8607.71           751         11394.94           2  \n",
       "2                      5355.35           684         36539.28           1  \n",
       "3                      1852.78           471         29980.53           0  \n",
       "4                      3002.96           675          3318.11           2  \n",
       "..                         ...           ...              ...         ...  \n",
       "695                    1854.01           564         13644.79           1  \n",
       "696                    2959.83           619          6355.29           2  \n",
       "697                    7936.14           675         16914.54           2  \n",
       "698                    1860.43           388         49977.24           2  \n",
       "699                    9178.35           502         20346.98           1  \n",
       "\n",
       "[700 rows x 7 columns]"
      ]
     },
     "execution_count": 4,
     "metadata": {},
     "output_type": "execute_result"
    }
   ],
   "source": [
    "data = pd.read_csv('synthetic_FINANCE.csv')\n",
    "data"
   ]
  },
  {
   "cell_type": "code",
   "execution_count": 15,
   "id": "cd8aae9c",
   "metadata": {},
   "outputs": [],
   "source": [
    "X = data[['Number_of_Transactions_last_month', 'Average_Transaction_Value', 'Credit_Score']]\n",
    "y = data['Risk_Class']"
   ]
  },
  {
   "cell_type": "code",
   "execution_count": 16,
   "id": "6aa5c2b7",
   "metadata": {},
   "outputs": [],
   "source": [
    "X_train, X_test, y_train, y_test = train_test_split(X, y, test_size=0.3, random_state=51)"
   ]
  },
  {
   "cell_type": "code",
   "execution_count": 17,
   "id": "043f5016",
   "metadata": {},
   "outputs": [],
   "source": [
    "logistic_regression_model = LogisticRegression()\n",
    "ovo_classifier = OneVsOneClassifier(logistic_regression_model)"
   ]
  },
  {
   "cell_type": "code",
   "execution_count": 18,
   "id": "3022c1fc",
   "metadata": {},
   "outputs": [
    {
     "data": {
      "text/html": [
       "<style>#sk-container-id-2 {color: black;background-color: white;}#sk-container-id-2 pre{padding: 0;}#sk-container-id-2 div.sk-toggleable {background-color: white;}#sk-container-id-2 label.sk-toggleable__label {cursor: pointer;display: block;width: 100%;margin-bottom: 0;padding: 0.3em;box-sizing: border-box;text-align: center;}#sk-container-id-2 label.sk-toggleable__label-arrow:before {content: \"▸\";float: left;margin-right: 0.25em;color: #696969;}#sk-container-id-2 label.sk-toggleable__label-arrow:hover:before {color: black;}#sk-container-id-2 div.sk-estimator:hover label.sk-toggleable__label-arrow:before {color: black;}#sk-container-id-2 div.sk-toggleable__content {max-height: 0;max-width: 0;overflow: hidden;text-align: left;background-color: #f0f8ff;}#sk-container-id-2 div.sk-toggleable__content pre {margin: 0.2em;color: black;border-radius: 0.25em;background-color: #f0f8ff;}#sk-container-id-2 input.sk-toggleable__control:checked~div.sk-toggleable__content {max-height: 200px;max-width: 100%;overflow: auto;}#sk-container-id-2 input.sk-toggleable__control:checked~label.sk-toggleable__label-arrow:before {content: \"▾\";}#sk-container-id-2 div.sk-estimator input.sk-toggleable__control:checked~label.sk-toggleable__label {background-color: #d4ebff;}#sk-container-id-2 div.sk-label input.sk-toggleable__control:checked~label.sk-toggleable__label {background-color: #d4ebff;}#sk-container-id-2 input.sk-hidden--visually {border: 0;clip: rect(1px 1px 1px 1px);clip: rect(1px, 1px, 1px, 1px);height: 1px;margin: -1px;overflow: hidden;padding: 0;position: absolute;width: 1px;}#sk-container-id-2 div.sk-estimator {font-family: monospace;background-color: #f0f8ff;border: 1px dotted black;border-radius: 0.25em;box-sizing: border-box;margin-bottom: 0.5em;}#sk-container-id-2 div.sk-estimator:hover {background-color: #d4ebff;}#sk-container-id-2 div.sk-parallel-item::after {content: \"\";width: 100%;border-bottom: 1px solid gray;flex-grow: 1;}#sk-container-id-2 div.sk-label:hover label.sk-toggleable__label {background-color: #d4ebff;}#sk-container-id-2 div.sk-serial::before {content: \"\";position: absolute;border-left: 1px solid gray;box-sizing: border-box;top: 0;bottom: 0;left: 50%;z-index: 0;}#sk-container-id-2 div.sk-serial {display: flex;flex-direction: column;align-items: center;background-color: white;padding-right: 0.2em;padding-left: 0.2em;position: relative;}#sk-container-id-2 div.sk-item {position: relative;z-index: 1;}#sk-container-id-2 div.sk-parallel {display: flex;align-items: stretch;justify-content: center;background-color: white;position: relative;}#sk-container-id-2 div.sk-item::before, #sk-container-id-2 div.sk-parallel-item::before {content: \"\";position: absolute;border-left: 1px solid gray;box-sizing: border-box;top: 0;bottom: 0;left: 50%;z-index: -1;}#sk-container-id-2 div.sk-parallel-item {display: flex;flex-direction: column;z-index: 1;position: relative;background-color: white;}#sk-container-id-2 div.sk-parallel-item:first-child::after {align-self: flex-end;width: 50%;}#sk-container-id-2 div.sk-parallel-item:last-child::after {align-self: flex-start;width: 50%;}#sk-container-id-2 div.sk-parallel-item:only-child::after {width: 0;}#sk-container-id-2 div.sk-dashed-wrapped {border: 1px dashed gray;margin: 0 0.4em 0.5em 0.4em;box-sizing: border-box;padding-bottom: 0.4em;background-color: white;}#sk-container-id-2 div.sk-label label {font-family: monospace;font-weight: bold;display: inline-block;line-height: 1.2em;}#sk-container-id-2 div.sk-label-container {text-align: center;}#sk-container-id-2 div.sk-container {/* jupyter's `normalize.less` sets `[hidden] { display: none; }` but bootstrap.min.css set `[hidden] { display: none !important; }` so we also need the `!important` here to be able to override the default hidden behavior on the sphinx rendered scikit-learn.org. See: https://github.com/scikit-learn/scikit-learn/issues/21755 */display: inline-block !important;position: relative;}#sk-container-id-2 div.sk-text-repr-fallback {display: none;}</style><div id=\"sk-container-id-2\" class=\"sk-top-container\"><div class=\"sk-text-repr-fallback\"><pre>OneVsOneClassifier(estimator=LogisticRegression())</pre><b>In a Jupyter environment, please rerun this cell to show the HTML representation or trust the notebook. <br />On GitHub, the HTML representation is unable to render, please try loading this page with nbviewer.org.</b></div><div class=\"sk-container\" hidden><div class=\"sk-item sk-dashed-wrapped\"><div class=\"sk-label-container\"><div class=\"sk-label sk-toggleable\"><input class=\"sk-toggleable__control sk-hidden--visually\" id=\"sk-estimator-id-4\" type=\"checkbox\" ><label for=\"sk-estimator-id-4\" class=\"sk-toggleable__label sk-toggleable__label-arrow\">OneVsOneClassifier</label><div class=\"sk-toggleable__content\"><pre>OneVsOneClassifier(estimator=LogisticRegression())</pre></div></div></div><div class=\"sk-parallel\"><div class=\"sk-parallel-item\"><div class=\"sk-item\"><div class=\"sk-label-container\"><div class=\"sk-label sk-toggleable\"><input class=\"sk-toggleable__control sk-hidden--visually\" id=\"sk-estimator-id-5\" type=\"checkbox\" ><label for=\"sk-estimator-id-5\" class=\"sk-toggleable__label sk-toggleable__label-arrow\">estimator: LogisticRegression</label><div class=\"sk-toggleable__content\"><pre>LogisticRegression()</pre></div></div></div><div class=\"sk-serial\"><div class=\"sk-item\"><div class=\"sk-estimator sk-toggleable\"><input class=\"sk-toggleable__control sk-hidden--visually\" id=\"sk-estimator-id-6\" type=\"checkbox\" ><label for=\"sk-estimator-id-6\" class=\"sk-toggleable__label sk-toggleable__label-arrow\">LogisticRegression</label><div class=\"sk-toggleable__content\"><pre>LogisticRegression()</pre></div></div></div></div></div></div></div></div></div></div>"
      ],
      "text/plain": [
       "OneVsOneClassifier(estimator=LogisticRegression())"
      ]
     },
     "execution_count": 18,
     "metadata": {},
     "output_type": "execute_result"
    }
   ],
   "source": [
    "ovo_classifier.fit(X_train, y_train)"
   ]
  },
  {
   "cell_type": "code",
   "execution_count": 19,
   "id": "99507ee5",
   "metadata": {},
   "outputs": [],
   "source": [
    "y_pred = ovo_classifier.predict(X_test)"
   ]
  },
  {
   "cell_type": "code",
   "execution_count": 20,
   "id": "995abc0c",
   "metadata": {},
   "outputs": [],
   "source": [
    "#Calculating the evaluation metrics\n",
    "accuracy = accuracy_score(y_test, y_pred)\n",
    "precision = precision_score(y_test, y_pred, average='macro')\n",
    "recall = recall_score(y_test, y_pred, average='macro')"
   ]
  },
  {
   "cell_type": "code",
   "execution_count": 21,
   "id": "bf606711",
   "metadata": {},
   "outputs": [
    {
     "name": "stdout",
     "output_type": "stream",
     "text": [
      "Accuracy: 0.5285714285714286\n",
      "Precision: 0.49845540786388476\n",
      "Recall: 0.4816339180561582\n"
     ]
    }
   ],
   "source": [
    "print(\"Accuracy:\", accuracy)\n",
    "print(\"Precision:\", precision)\n",
    "print(\"Recall:\", recall)"
   ]
  },
  {
   "cell_type": "code",
   "execution_count": 22,
   "id": "1c2ab70b",
   "metadata": {
    "scrolled": true
   },
   "outputs": [
    {
     "name": "stdout",
     "output_type": "stream",
     "text": [
      "\n",
      "Classification Report:\n",
      "              precision    recall  f1-score   support\n",
      "\n",
      "           0       0.53      0.56      0.54        73\n",
      "           1       0.42      0.15      0.23        52\n",
      "           2       0.55      0.73      0.63        85\n",
      "\n",
      "    accuracy                           0.53       210\n",
      "   macro avg       0.50      0.48      0.46       210\n",
      "weighted avg       0.51      0.53      0.50       210\n",
      "\n"
     ]
    }
   ],
   "source": [
    "print(\"\\nClassification Report:\")\n",
    "print(classification_report(y_test, y_pred))"
   ]
  },
  {
   "cell_type": "code",
   "execution_count": 23,
   "id": "63d3d64f",
   "metadata": {},
   "outputs": [
    {
     "data": {
      "image/png": "[encoded data removed]",
      "text/plain": [
       "<Figure size 800x600 with 2 Axes>"
      ]
     },
     "metadata": {},
     "output_type": "display_data"
    }
   ],
   "source": [
    "conf_matrix = confusion_matrix(y_test, y_pred)\n",
    "plt.figure(figsize=(8, 6))\n",
    "sns.heatmap(conf_matrix, annot=True, fmt=\"d\", cmap='Blues')\n",
    "plt.title('Confusion Matrix')\n",
    "plt.ylabel('Actual Values')\n",
    "plt.xlabel('Predicted Values')\n",
    "plt.show()"
   ]
  },
  {
   "cell_type": "code",
   "execution_count": 25,
   "id": "538c667f",
   "metadata": {},
   "outputs": [
    {
     "name": "stdout",
     "output_type": "stream",
     "text": [
      "Enter the number of transactions in last month: 56\n",
      "Enter the average transaction value: 6785.67\n",
      "Enter the credit score: 475\n",
      "Predicted risks:[2]\n"
     ]
    }
   ],
   "source": [
    "Number_of_Transactions_last_month = int(input(\"Enter the number of transactions in last month: \"))\n",
    "Average_Transaction_Value = float(input(\"Enter the average transaction value: \"))\n",
    "Account_Balance = int(input(\"Enter the credit score: \"))\n",
    "input_data = [[Number_of_Transactions_last_month, Average_Transaction_Value, Account_Balance]]\n",
    "outcome = ovo_classifier.predict(input_data)\n",
    "print(f\"Predicted risks:{outcome}\")"
   ]
  },
  {
   "cell_type": "code",
   "execution_count": null,
   "id": "72bc7470",
   "metadata": {},
   "outputs": [],
   "source": [
    "#From my point of view Precision looks very important for this analysis, because  False positives may occur when we predicts an account as risky when it's actually not risky. \n",
    "#In the live industries, false positives can lead to unnecessary problems like customer dissatisfaction, and may broke the trust due to incorrectly predicting the risk. \n",
    "#So here the high precision indicates that the model is accurately identifying risky accounts.\n",
    "\n",
    "#Evaluating the result:\n",
    "\n",
    "#Precision\n",
    "#Classificiation 0 has the highest precision of 53% , hence the accounts correctly predicted as 0.\n",
    "#Classificiation 2 has the precision of 55%, hence the accounts correctly predicted as 2.\n",
    "#Classification 1 has the lowest precision of 42%, hence only this percentage of the accounts are correctly predicted as 1.\n",
    "\n",
    "#Recall\n",
    "#Classification 2 has the highest recall of 73% of 2 accounts.\n",
    "#Classification 0 has the recall of 56% of 0 accounts.\n",
    "#Classification 1 has the lowest recall of 85% of 1 accounts.\n",
    "\n",
    "#F1-score\n",
    "#Classification 2 has the highest F1-score of 63%, which represents a balance between precision and recall for  2.\n",
    "#Classification 0 has the F1-score of 54%, indicating a good balance between precision and recall for  0.\n",
    "#Classification 1 has the lowest F1-score of 23%, indicating a poor balance between precision and recall for  1.\n",
    "\n",
    "\n",
    "#Classification 0 and Class 2 prediction shows that a balanced performance between precision, recall, and F1-score.\n",
    "#Classification 1 has lower precision, recall, and F1-score compared to the other classes, so our model performance accuracy is less for Class 1 compared to the other classes.\n"
   ]
  }
 ],
 "metadata": {
  "kernelspec": {
   "display_name": "Python 3 (ipykernel)",
   "language": "python",
   "name": "python3"
  },
  "language_info": {
   "codemirror_mode": {
    "name": "ipython",
    "version": 3
   },
   "file_extension": ".py",
   "mimetype": "text/x-python",
   "name": "python",
   "nbconvert_exporter": "python",
   "pygments_lexer": "ipython3",
   "version": "3.10.9"
  }
 },
 "nbformat": 4,
 "nbformat_minor": 5
}
